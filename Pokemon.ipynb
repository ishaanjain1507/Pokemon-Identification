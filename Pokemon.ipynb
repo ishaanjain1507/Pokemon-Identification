{
 "cells": [
  {
   "cell_type": "code",
   "execution_count": 1,
   "id": "c5fe5208",
   "metadata": {},
   "outputs": [],
   "source": [
    "import numpy as np\n",
    "import pandas as pd\n",
    "import matplotlib.pyplot as plt\n",
    "import os\n",
    "plt.style.use('seaborn')"
   ]
  },
  {
   "cell_type": "code",
   "execution_count": 2,
   "id": "97d3f39d",
   "metadata": {},
   "outputs": [
    {
     "name": "stderr",
     "output_type": "stream",
     "text": [
      "2023-06-08 10:06:38.852091: I tensorflow/core/util/port.cc:110] oneDNN custom operations are on. You may see slightly different numerical results due to floating-point round-off errors from different computation orders. To turn them off, set the environment variable `TF_ENABLE_ONEDNN_OPTS=0`.\n",
      "2023-06-08 10:06:38.894388: I tensorflow/tsl/cuda/cudart_stub.cc:28] Could not find cuda drivers on your machine, GPU will not be used.\n",
      "2023-06-08 10:06:39.261403: I tensorflow/tsl/cuda/cudart_stub.cc:28] Could not find cuda drivers on your machine, GPU will not be used.\n",
      "2023-06-08 10:06:39.265794: I tensorflow/core/platform/cpu_feature_guard.cc:182] This TensorFlow binary is optimized to use available CPU instructions in performance-critical operations.\n",
      "To enable the following instructions: AVX2 AVX512F AVX512_VNNI FMA, in other operations, rebuild TensorFlow with the appropriate compiler flags.\n",
      "2023-06-08 10:06:40.421379: W tensorflow/compiler/tf2tensorrt/utils/py_utils.cc:38] TF-TRT Warning: Could not find TensorRT\n"
     ]
    }
   ],
   "source": [
    "from keras_preprocessing import image\n",
    "import tensorflow.keras as keras"
   ]
  },
  {
   "cell_type": "code",
   "execution_count": 3,
   "id": "66bbc727",
   "metadata": {},
   "outputs": [
    {
     "name": "stderr",
     "output_type": "stream",
     "text": [
      "/usr/lib/python3/dist-packages/PIL/Image.py:945: UserWarning: Palette images with Transparency expressed in bytes should be converted to RGBA images\n",
      "  warnings.warn(\n"
     ]
    }
   ],
   "source": [
    "classes = os.listdir(\"./Train/\")\n",
    "\n",
    "train_data = []\n",
    "train_labels = []\n",
    "\n",
    "for pok in classes:\n",
    "    folder = \"./Train/\" + pok\n",
    "    for img_name in os.listdir(folder):\n",
    "        img = image.load_img(f\"{folder}/{img_name}\", target_size= (100,100))\n",
    "        img = image.img_to_array(img)\n",
    "        train_data.append(img)\n",
    "        train_labels.append(pok)"
   ]
  },
  {
   "cell_type": "code",
   "execution_count": 4,
   "id": "8027c0dd",
   "metadata": {},
   "outputs": [],
   "source": [
    "test_data = []\n",
    "test_labels = []\n",
    "\n",
    "for pok in classes:\n",
    "    folder = \"./Test/\" + pok\n",
    "    for img_name in os.listdir(folder):\n",
    "        img = image.load_img(f\"{folder}/{img_name}\", target_size= (100,100))\n",
    "        img = image.img_to_array(img)\n",
    "        test_data.append(img)\n",
    "        test_labels.append(pok)"
   ]
  },
  {
   "cell_type": "code",
   "execution_count": 5,
   "id": "e1769a33",
   "metadata": {},
   "outputs": [
    {
     "data": {
      "text/plain": [
       "(304, 100, 100, 3)"
      ]
     },
     "execution_count": 5,
     "metadata": {},
     "output_type": "execute_result"
    }
   ],
   "source": [
    "test_data = np.array(test_data)\n",
    "test_labels = np.array(test_labels)\n",
    "train_data = np.array(train_data)\n",
    "train_labels = np.array(train_labels)\n",
    "train_data.shape"
   ]
  },
  {
   "cell_type": "code",
   "execution_count": 6,
   "id": "85926ed2",
   "metadata": {},
   "outputs": [
    {
     "data": {
      "text/plain": [
       "((304, 30000), (304,))"
      ]
     },
     "execution_count": 6,
     "metadata": {},
     "output_type": "execute_result"
    }
   ],
   "source": [
    "train_data = train_data.reshape(train_data.shape[0], 30000)\n",
    "test_data = test_data.reshape(test_data.shape[0], 30000)\n",
    "\n",
    "c2l = {\"Pikachu\" : 0, \"Charmander\" : 1, \"Bulbasaur\" : 2}\n",
    "l2c = {0 : \"Pikachu\", 1: \"Charmander\", 2: \"Bulbasaur\"}\n",
    "\n",
    "train_labels = np.array([c2l[i] for i in train_labels])\n",
    "test_labels = np.array([c2l[i] for i in test_labels])\n",
    "train_data.shape, train_labels.shape"
   ]
  },
  {
   "cell_type": "code",
   "execution_count": 15,
   "id": "cd159fe7",
   "metadata": {},
   "outputs": [],
   "source": [
    "from keras.models import Sequential\n",
    "from keras.layers import Dense"
   ]
  },
  {
   "cell_type": "code",
   "execution_count": 16,
   "id": "fc7366c4",
   "metadata": {},
   "outputs": [],
   "source": [
    "train_labels = keras.utils.to_categorical(train_labels)"
   ]
  },
  {
   "cell_type": "code",
   "execution_count": 17,
   "id": "ce0de774",
   "metadata": {},
   "outputs": [],
   "source": [
    "model = Sequential()\n",
    "model.add(Dense(units=512, activation= 'relu', input_shape= (30000,)))\n",
    "model.add(Dense(units=256, activation='relu'))\n",
    "model.add(Dense(units=128, activation='relu'))\n",
    "model.add(Dense(units=128, activation='relu'))\n",
    "model.add(Dense(units=3, activation='softmax'))\n",
    "\n",
    "model.compile(optimizer='adam', loss='categorical_crossentropy', metrics=['accuracy'])"
   ]
  },
  {
   "cell_type": "code",
   "execution_count": 18,
   "id": "cc24f15c",
   "metadata": {},
   "outputs": [
    {
     "name": "stdout",
     "output_type": "stream",
     "text": [
      "Epoch 1/25\n",
      "10/10 [==============================] - 2s 118ms/step - loss: 2029.0740 - accuracy: 0.3026\n",
      "Epoch 2/25\n",
      "10/10 [==============================] - 1s 112ms/step - loss: 1214.9889 - accuracy: 0.4112\n",
      "Epoch 3/25\n",
      "10/10 [==============================] - 1s 107ms/step - loss: 1111.2223 - accuracy: 0.5132\n",
      "Epoch 4/25\n",
      "10/10 [==============================] - 1s 108ms/step - loss: 805.3185 - accuracy: 0.4737\n",
      "Epoch 5/25\n",
      "10/10 [==============================] - 1s 107ms/step - loss: 337.5449 - accuracy: 0.5132\n",
      "Epoch 6/25\n",
      "10/10 [==============================] - 1s 114ms/step - loss: 161.0901 - accuracy: 0.6382\n",
      "Epoch 7/25\n",
      "10/10 [==============================] - 1s 110ms/step - loss: 98.8569 - accuracy: 0.6809\n",
      "Epoch 8/25\n",
      "10/10 [==============================] - 1s 107ms/step - loss: 167.3001 - accuracy: 0.6151\n",
      "Epoch 9/25\n",
      "10/10 [==============================] - 1s 107ms/step - loss: 71.2338 - accuracy: 0.7204\n",
      "Epoch 10/25\n",
      "10/10 [==============================] - 1s 109ms/step - loss: 18.6897 - accuracy: 0.8783\n",
      "Epoch 11/25\n",
      "10/10 [==============================] - 1s 108ms/step - loss: 26.3419 - accuracy: 0.8158\n",
      "Epoch 12/25\n",
      "10/10 [==============================] - 1s 108ms/step - loss: 26.2936 - accuracy: 0.8553\n",
      "Epoch 13/25\n",
      "10/10 [==============================] - 1s 110ms/step - loss: 58.9213 - accuracy: 0.7928\n",
      "Epoch 14/25\n",
      "10/10 [==============================] - 1s 119ms/step - loss: 113.1129 - accuracy: 0.7237\n",
      "Epoch 15/25\n",
      "10/10 [==============================] - 1s 120ms/step - loss: 35.3234 - accuracy: 0.8059\n",
      "Epoch 16/25\n",
      "10/10 [==============================] - 1s 114ms/step - loss: 25.1209 - accuracy: 0.8520\n",
      "Epoch 17/25\n",
      "10/10 [==============================] - 1s 113ms/step - loss: 31.0126 - accuracy: 0.8487\n",
      "Epoch 18/25\n",
      "10/10 [==============================] - 1s 110ms/step - loss: 34.1912 - accuracy: 0.8158\n",
      "Epoch 19/25\n",
      "10/10 [==============================] - 1s 108ms/step - loss: 42.4251 - accuracy: 0.8026\n",
      "Epoch 20/25\n",
      "10/10 [==============================] - 1s 120ms/step - loss: 26.0520 - accuracy: 0.8717\n",
      "Epoch 21/25\n",
      "10/10 [==============================] - 1s 108ms/step - loss: 20.6522 - accuracy: 0.8750\n",
      "Epoch 22/25\n",
      "10/10 [==============================] - 1s 107ms/step - loss: 29.3719 - accuracy: 0.8487\n",
      "Epoch 23/25\n",
      "10/10 [==============================] - 1s 107ms/step - loss: 22.2692 - accuracy: 0.8750\n",
      "Epoch 24/25\n",
      "10/10 [==============================] - 1s 109ms/step - loss: 13.0817 - accuracy: 0.9013\n",
      "Epoch 25/25\n",
      "10/10 [==============================] - 1s 112ms/step - loss: 9.3224 - accuracy: 0.9079\n"
     ]
    },
    {
     "data": {
      "text/plain": [
       "<keras.callbacks.History at 0x7f4245da0e50>"
      ]
     },
     "execution_count": 18,
     "metadata": {},
     "output_type": "execute_result"
    }
   ],
   "source": [
    "model.fit(train_data, train_labels, epochs= 25)"
   ]
  },
  {
   "cell_type": "code",
   "execution_count": 20,
   "id": "472c8149",
   "metadata": {},
   "outputs": [
    {
     "data": {
      "text/plain": [
       "array([[0., 1., 0.],\n",
       "       [0., 1., 0.],\n",
       "       [0., 1., 0.],\n",
       "       [0., 1., 0.],\n",
       "       [0., 1., 0.],\n",
       "       [0., 1., 0.],\n",
       "       [0., 1., 0.],\n",
       "       [0., 1., 0.],\n",
       "       [0., 1., 0.],\n",
       "       [0., 1., 0.],\n",
       "       [0., 1., 0.],\n",
       "       [0., 1., 0.],\n",
       "       [0., 1., 0.],\n",
       "       [0., 1., 0.],\n",
       "       [0., 1., 0.],\n",
       "       [0., 1., 0.],\n",
       "       [0., 1., 0.],\n",
       "       [0., 1., 0.],\n",
       "       [0., 1., 0.],\n",
       "       [0., 1., 0.],\n",
       "       [0., 1., 0.],\n",
       "       [0., 1., 0.],\n",
       "       [0., 1., 0.],\n",
       "       [0., 1., 0.],\n",
       "       [0., 1., 0.],\n",
       "       [0., 1., 0.],\n",
       "       [0., 1., 0.],\n",
       "       [0., 1., 0.],\n",
       "       [0., 1., 0.],\n",
       "       [0., 1., 0.],\n",
       "       [0., 1., 0.],\n",
       "       [0., 1., 0.],\n",
       "       [0., 1., 0.],\n",
       "       [0., 1., 0.],\n",
       "       [0., 1., 0.],\n",
       "       [0., 1., 0.],\n",
       "       [0., 1., 0.],\n",
       "       [0., 1., 0.],\n",
       "       [0., 1., 0.],\n",
       "       [0., 1., 0.],\n",
       "       [0., 1., 0.],\n",
       "       [0., 1., 0.],\n",
       "       [0., 0., 1.],\n",
       "       [0., 0., 1.],\n",
       "       [0., 0., 1.],\n",
       "       [0., 0., 1.],\n",
       "       [0., 0., 1.],\n",
       "       [0., 0., 1.],\n",
       "       [0., 0., 1.],\n",
       "       [0., 0., 1.],\n",
       "       [0., 0., 1.],\n",
       "       [0., 0., 1.],\n",
       "       [0., 0., 1.],\n",
       "       [0., 0., 1.],\n",
       "       [0., 0., 1.],\n",
       "       [0., 0., 1.],\n",
       "       [0., 0., 1.],\n",
       "       [0., 0., 1.],\n",
       "       [0., 0., 1.],\n",
       "       [0., 0., 1.],\n",
       "       [0., 0., 1.],\n",
       "       [0., 0., 1.],\n",
       "       [0., 0., 1.],\n",
       "       [0., 0., 1.],\n",
       "       [0., 0., 1.],\n",
       "       [0., 0., 1.],\n",
       "       [0., 0., 1.],\n",
       "       [0., 0., 1.],\n",
       "       [0., 0., 1.],\n",
       "       [0., 0., 1.],\n",
       "       [0., 0., 1.],\n",
       "       [0., 0., 1.],\n",
       "       [0., 0., 1.],\n",
       "       [0., 0., 1.],\n",
       "       [0., 0., 1.],\n",
       "       [0., 0., 1.],\n",
       "       [0., 0., 1.],\n",
       "       [0., 0., 1.],\n",
       "       [0., 0., 1.],\n",
       "       [0., 0., 1.],\n",
       "       [0., 0., 1.],\n",
       "       [0., 0., 1.],\n",
       "       [0., 0., 1.],\n",
       "       [1., 0., 0.],\n",
       "       [1., 0., 0.],\n",
       "       [1., 0., 0.],\n",
       "       [1., 0., 0.],\n",
       "       [1., 0., 0.],\n",
       "       [1., 0., 0.],\n",
       "       [1., 0., 0.],\n",
       "       [1., 0., 0.],\n",
       "       [1., 0., 0.],\n",
       "       [1., 0., 0.],\n",
       "       [1., 0., 0.],\n",
       "       [1., 0., 0.],\n",
       "       [1., 0., 0.],\n",
       "       [1., 0., 0.],\n",
       "       [1., 0., 0.],\n",
       "       [1., 0., 0.],\n",
       "       [1., 0., 0.],\n",
       "       [1., 0., 0.],\n",
       "       [1., 0., 0.],\n",
       "       [1., 0., 0.],\n",
       "       [1., 0., 0.],\n",
       "       [1., 0., 0.],\n",
       "       [1., 0., 0.],\n",
       "       [1., 0., 0.],\n",
       "       [1., 0., 0.],\n",
       "       [1., 0., 0.],\n",
       "       [1., 0., 0.],\n",
       "       [1., 0., 0.],\n",
       "       [1., 0., 0.],\n",
       "       [1., 0., 0.],\n",
       "       [1., 0., 0.],\n",
       "       [1., 0., 0.],\n",
       "       [1., 0., 0.],\n",
       "       [1., 0., 0.],\n",
       "       [1., 0., 0.],\n",
       "       [1., 0., 0.],\n",
       "       [1., 0., 0.],\n",
       "       [1., 0., 0.],\n",
       "       [1., 0., 0.],\n",
       "       [1., 0., 0.]], dtype=float32)"
      ]
     },
     "execution_count": 20,
     "metadata": {},
     "output_type": "execute_result"
    }
   ],
   "source": [
    "test_labels = keras.utils.to_categorical(test_labels)\n",
    "test_labels"
   ]
  },
  {
   "cell_type": "code",
   "execution_count": 21,
   "id": "563e291c",
   "metadata": {},
   "outputs": [
    {
     "name": "stdout",
     "output_type": "stream",
     "text": [
      "4/4 [==============================] - 0s 13ms/step - loss: 10.0230 - accuracy: 0.9431\n"
     ]
    },
    {
     "data": {
      "text/plain": [
       "[10.022950172424316, 0.9430894255638123]"
      ]
     },
     "execution_count": 21,
     "metadata": {},
     "output_type": "execute_result"
    }
   ],
   "source": [
    "model.evaluate(test_data, test_labels)"
   ]
  },
  {
   "cell_type": "code",
   "execution_count": 23,
   "id": "51b58006",
   "metadata": {},
   "outputs": [
    {
     "name": "stdout",
     "output_type": "stream",
     "text": [
      "4/4 [==============================] - 0s 19ms/step\n"
     ]
    },
    {
     "data": {
      "text/plain": [
       "array([1, 1, 1, 1, 1, 1, 1, 1, 1, 1, 1, 1, 1, 1, 1, 1, 1, 1, 2, 1, 1, 1,\n",
       "       1, 1, 1, 1, 1, 1, 1, 1, 1, 1, 1, 1, 1, 1, 1, 1, 0, 1, 1, 1, 2, 2,\n",
       "       2, 2, 2, 2, 2, 2, 2, 2, 2, 2, 2, 2, 2, 2, 2, 2, 2, 2, 2, 2, 2, 2,\n",
       "       2, 2, 2, 2, 2, 2, 2, 2, 2, 2, 2, 2, 2, 2, 2, 2, 2, 0, 0, 0, 0, 0,\n",
       "       0, 0, 0, 0, 0, 1, 0, 1, 0, 0, 0, 0, 0, 1, 0, 0, 0, 0, 0, 0, 0, 0,\n",
       "       0, 2, 0, 0, 0, 0, 0, 0, 0, 1, 0, 0, 0])"
      ]
     },
     "execution_count": 23,
     "metadata": {},
     "output_type": "execute_result"
    }
   ],
   "source": [
    "pred = model.predict(test_data).argmax(axis =1 )\n",
    "pred"
   ]
  },
  {
   "cell_type": "code",
   "execution_count": 24,
   "id": "2697603d",
   "metadata": {},
   "outputs": [
    {
     "data": {
      "text/plain": [
       "['Charmander',\n",
       " 'Charmander',\n",
       " 'Charmander',\n",
       " 'Charmander',\n",
       " 'Charmander',\n",
       " 'Charmander',\n",
       " 'Charmander',\n",
       " 'Charmander',\n",
       " 'Charmander',\n",
       " 'Charmander',\n",
       " 'Charmander',\n",
       " 'Charmander',\n",
       " 'Charmander',\n",
       " 'Charmander',\n",
       " 'Charmander',\n",
       " 'Charmander',\n",
       " 'Charmander',\n",
       " 'Charmander',\n",
       " 'Bulbasaur',\n",
       " 'Charmander',\n",
       " 'Charmander',\n",
       " 'Charmander',\n",
       " 'Charmander',\n",
       " 'Charmander',\n",
       " 'Charmander',\n",
       " 'Charmander',\n",
       " 'Charmander',\n",
       " 'Charmander',\n",
       " 'Charmander',\n",
       " 'Charmander',\n",
       " 'Charmander',\n",
       " 'Charmander',\n",
       " 'Charmander',\n",
       " 'Charmander',\n",
       " 'Charmander',\n",
       " 'Charmander',\n",
       " 'Charmander',\n",
       " 'Charmander',\n",
       " 'Pikachu',\n",
       " 'Charmander',\n",
       " 'Charmander',\n",
       " 'Charmander',\n",
       " 'Bulbasaur',\n",
       " 'Bulbasaur',\n",
       " 'Bulbasaur',\n",
       " 'Bulbasaur',\n",
       " 'Bulbasaur',\n",
       " 'Bulbasaur',\n",
       " 'Bulbasaur',\n",
       " 'Bulbasaur',\n",
       " 'Bulbasaur',\n",
       " 'Bulbasaur',\n",
       " 'Bulbasaur',\n",
       " 'Bulbasaur',\n",
       " 'Bulbasaur',\n",
       " 'Bulbasaur',\n",
       " 'Bulbasaur',\n",
       " 'Bulbasaur',\n",
       " 'Bulbasaur',\n",
       " 'Bulbasaur',\n",
       " 'Bulbasaur',\n",
       " 'Bulbasaur',\n",
       " 'Bulbasaur',\n",
       " 'Bulbasaur',\n",
       " 'Bulbasaur',\n",
       " 'Bulbasaur',\n",
       " 'Bulbasaur',\n",
       " 'Bulbasaur',\n",
       " 'Bulbasaur',\n",
       " 'Bulbasaur',\n",
       " 'Bulbasaur',\n",
       " 'Bulbasaur',\n",
       " 'Bulbasaur',\n",
       " 'Bulbasaur',\n",
       " 'Bulbasaur',\n",
       " 'Bulbasaur',\n",
       " 'Bulbasaur',\n",
       " 'Bulbasaur',\n",
       " 'Bulbasaur',\n",
       " 'Bulbasaur',\n",
       " 'Bulbasaur',\n",
       " 'Bulbasaur',\n",
       " 'Bulbasaur',\n",
       " 'Pikachu',\n",
       " 'Pikachu',\n",
       " 'Pikachu',\n",
       " 'Pikachu',\n",
       " 'Pikachu',\n",
       " 'Pikachu',\n",
       " 'Pikachu',\n",
       " 'Pikachu',\n",
       " 'Pikachu',\n",
       " 'Pikachu',\n",
       " 'Charmander',\n",
       " 'Pikachu',\n",
       " 'Charmander',\n",
       " 'Pikachu',\n",
       " 'Pikachu',\n",
       " 'Pikachu',\n",
       " 'Pikachu',\n",
       " 'Pikachu',\n",
       " 'Charmander',\n",
       " 'Pikachu',\n",
       " 'Pikachu',\n",
       " 'Pikachu',\n",
       " 'Pikachu',\n",
       " 'Pikachu',\n",
       " 'Pikachu',\n",
       " 'Pikachu',\n",
       " 'Pikachu',\n",
       " 'Pikachu',\n",
       " 'Bulbasaur',\n",
       " 'Pikachu',\n",
       " 'Pikachu',\n",
       " 'Pikachu',\n",
       " 'Pikachu',\n",
       " 'Pikachu',\n",
       " 'Pikachu',\n",
       " 'Pikachu',\n",
       " 'Charmander',\n",
       " 'Pikachu',\n",
       " 'Pikachu',\n",
       " 'Pikachu']"
      ]
     },
     "execution_count": 24,
     "metadata": {},
     "output_type": "execute_result"
    }
   ],
   "source": [
    "[l2c[i] for i in pred]"
   ]
  },
  {
   "cell_type": "code",
   "execution_count": 28,
   "id": "1dc8baf9",
   "metadata": {},
   "outputs": [
    {
     "data": {
      "text/plain": [
       "array([[ 52., 141., 139., ...,  31.,  46.,  43.]], dtype=float32)"
      ]
     },
     "execution_count": 28,
     "metadata": {},
     "output_type": "execute_result"
    }
   ],
   "source": [
    "test_img = \"./Test/Pikachu/2010.jpg\"\n",
    "img = image.load_img(test_img, target_size=(100, 100))\n",
    "img = image.img_to_array(img)\n",
    "img = img.reshape(1, 30000)\n",
    "img"
   ]
  },
  {
   "cell_type": "code",
   "execution_count": 33,
   "id": "9531fe95",
   "metadata": {},
   "outputs": [
    {
     "name": "stdout",
     "output_type": "stream",
     "text": [
      "1/1 [==============================] - 0s 39ms/step\n"
     ]
    }
   ],
   "source": [
    "pred = model.predict(img).argmax(axis = 1)"
   ]
  },
  {
   "cell_type": "code",
   "execution_count": 38,
   "id": "4b36fff1",
   "metadata": {},
   "outputs": [
    {
     "data": {
      "text/plain": [
       "'Pikachu'"
      ]
     },
     "execution_count": 38,
     "metadata": {},
     "output_type": "execute_result"
    }
   ],
   "source": [
    "l2c[pred[0]]"
   ]
  },
  {
   "cell_type": "code",
   "execution_count": 35,
   "id": "a57b9efc",
   "metadata": {},
   "outputs": [
    {
     "data": {
      "text/plain": [
       "'Pikachu'"
      ]
     },
     "execution_count": 35,
     "metadata": {},
     "output_type": "execute_result"
    }
   ],
   "source": []
  },
  {
   "cell_type": "code",
   "execution_count": 36,
   "id": "062b7a36",
   "metadata": {},
   "outputs": [
    {
     "data": {
      "text/plain": [
       "(1,)"
      ]
     },
     "execution_count": 36,
     "metadata": {},
     "output_type": "execute_result"
    }
   ],
   "source": [
    "pred.shape"
   ]
  },
  {
   "cell_type": "code",
   "execution_count": null,
   "id": "820b0b0a",
   "metadata": {},
   "outputs": [],
   "source": []
  }
 ],
 "metadata": {
  "kernelspec": {
   "display_name": "Python 3 (ipykernel)",
   "language": "python",
   "name": "python3"
  },
  "language_info": {
   "codemirror_mode": {
    "name": "ipython",
    "version": 3
   },
   "file_extension": ".py",
   "mimetype": "text/x-python",
   "name": "python",
   "nbconvert_exporter": "python",
   "pygments_lexer": "ipython3",
   "version": "3.10.6"
  }
 },
 "nbformat": 4,
 "nbformat_minor": 5
}
